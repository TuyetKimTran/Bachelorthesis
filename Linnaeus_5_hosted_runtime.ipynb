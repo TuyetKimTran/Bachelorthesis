{
  "nbformat": 4,
  "nbformat_minor": 0,
  "metadata": {
    "colab": {
      "name": "Linnaeus 5 hostes runtime.ipynb",
      "provenance": [],
      "collapsed_sections": [],
      "toc_visible": true,
      "include_colab_link": true
    },
    "kernelspec": {
      "name": "python3",
      "display_name": "Python 3"
    },
    "accelerator": "GPU"
  },
  "cells": [
    {
      "cell_type": "markdown",
      "metadata": {
        "id": "view-in-github",
        "colab_type": "text"
      },
      "source": [
        "<a href=\"https://colab.research.google.com/github/TuyetKimTran/Bachelorthesis/blob/master/Linnaeus_5_hosted_runtime.ipynb\" target=\"_parent\"><img src=\"https://colab.research.google.com/assets/colab-badge.svg\" alt=\"Open In Colab\"/></a>"
      ]
    },
    {
      "cell_type": "markdown",
      "metadata": {
        "id": "DT4utg3BnScM",
        "colab_type": "text"
      },
      "source": [
        "## Load data from Github"
      ]
    },
    {
      "cell_type": "code",
      "metadata": {
        "id": "3-hyh7qthRxp",
        "colab_type": "code",
        "outputId": "1d47fd0d-bc1a-4582-a20d-780fec36b025",
        "colab": {
          "base_uri": "https://localhost:8080/",
          "height": 117
        }
      },
      "source": [
        "!git clone https://github.com/TuyetKimTran/Bachelorthesis.git\n"
      ],
      "execution_count": 0,
      "outputs": [
        {
          "output_type": "stream",
          "text": [
            "Cloning into 'Bachelorthesis'...\n",
            "remote: Enumerating objects: 8013, done.\u001b[K\n",
            "remote: Counting objects: 100% (8013/8013), done.\u001b[K\n",
            "remote: Compressing objects: 100% (8011/8011), done.\u001b[K\n",
            "remote: Total 8013 (delta 0), reused 8010 (delta 0), pack-reused 0\u001b[K\n",
            "Receiving objects: 100% (8013/8013), 40.82 MiB | 22.29 MiB/s, done.\n"
          ],
          "name": "stdout"
        }
      ]
    },
    {
      "cell_type": "markdown",
      "metadata": {
        "id": "NE1SviPCzcjY",
        "colab_type": "text"
      },
      "source": [
        "##Rename image title to prepare for labeling"
      ]
    },
    {
      "cell_type": "code",
      "metadata": {
        "id": "QoKibZWg3nsL",
        "colab_type": "code",
        "outputId": "6e0b1709-04e1-4c29-ca2e-e9c63faff1ac",
        "colab": {
          "base_uri": "https://localhost:8080/",
          "height": 100
        }
      },
      "source": [
        "import os \n",
        "os.chdir('/content/Bachelorthesis/Linnaeus5/train/berry/')\n",
        "i=1\n",
        "for file in os.listdir():\n",
        "      src=file\n",
        "      dst=\"berry\"+str(i)+\".jpg\"\n",
        "      os.rename(src,dst)\n",
        "      i+=1\n",
        "print(\"All files has been renamed successfully of berry.\")   \n",
        "\n",
        "os.chdir('/content/Bachelorthesis/Linnaeus5/train/bird/')\n",
        "j=1\n",
        "for file in os.listdir():\n",
        "      src=file\n",
        "      dst=\"bird\"+str(j)+\".jpg\"\n",
        "      os.rename(src,dst)\n",
        "      j+=1\n",
        "print(\"All files has been renamed successfully of bird.\")   \n",
        "os.chdir('/content/Bachelorthesis/Linnaeus5/train/dog/')\n",
        "k=1\n",
        "for file in os.listdir():\n",
        "      src=file\n",
        "      dst=\"dog\"+str(k)+\".jpg\"\n",
        "      os.rename(src,dst)\n",
        "      k+=1\n",
        "\n",
        "print(\"All files has been renamed successfully of dog.\")   \n",
        "\n",
        "os.chdir('/content/Bachelorthesis/Linnaeus5/train/flower/')\n",
        "l=1\n",
        "for file in os.listdir():\n",
        "      src=file\n",
        "      dst=\"flower\"+str(l)+\".jpg\"\n",
        "      os.rename(src,dst)\n",
        "      l+=1\n",
        "print(\"All files has been renamed successfully of flower.\")   \n",
        "\n",
        "os.chdir('/content/Bachelorthesis/Linnaeus5/train/other/')\n",
        "m=1\n",
        "for file in os.listdir():\n",
        "      src=file\n",
        "      dst=\"other\"+str(m)+\".jpg\"\n",
        "      os.rename(src,dst)\n",
        "      m+=1\n",
        "\n",
        "print(\"All files has been renamed successfully of other.\")   \n"
      ],
      "execution_count": 0,
      "outputs": [
        {
          "output_type": "stream",
          "text": [
            "All files has been renamed successfully of berry.\n",
            "All files has been renamed successfully of bird.\n",
            "All files has been renamed successfully of dog.\n",
            "All files has been renamed successfully of flower.\n",
            "All files has been renamed successfully of other.\n"
          ],
          "name": "stdout"
        }
      ]
    },
    {
      "cell_type": "code",
      "metadata": {
        "colab_type": "code",
        "id": "4hk07ArNaANF",
        "outputId": "e067e94c-79e8-4536-9df1-b2960a300046",
        "colab": {
          "base_uri": "https://localhost:8080/",
          "height": 100
        }
      },
      "source": [
        "os.chdir('/content/Bachelorthesis/Linnaeus5/test/berry/')\n",
        "n=1\n",
        "for file in os.listdir():\n",
        "      src=file\n",
        "      dst=\"berry\"+str(n)+\".jpg\"\n",
        "      os.rename(src,dst)\n",
        "      n+=1\n",
        "print(\"All files has been renamed successfully of berry.\")   \n",
        "\n",
        "os.chdir('/content/Bachelorthesis/Linnaeus5/test/bird/')\n",
        "o=1\n",
        "for file in os.listdir():\n",
        "      src=file\n",
        "      dst=\"bird\"+str(o)+\".jpg\"\n",
        "      os.rename(src,dst)\n",
        "      o+=1\n",
        "print(\"All files has been renamed successfully of bird.\")   \n",
        "\n",
        "os.chdir('/content/Bachelorthesis/Linnaeus5/test/dog/')\n",
        "p=1\n",
        "for file in os.listdir():\n",
        "      src=file\n",
        "      dst=\"dog\"+str(p)+\".jpg\"\n",
        "      os.rename(src,dst)\n",
        "      p+=1\n",
        "print(\"All files has been renamed successfully of dog.\")   \n",
        "\n",
        "os.chdir('/content/Bachelorthesis/Linnaeus5/test/flower/')\n",
        "q=1\n",
        "for file in os.listdir():\n",
        "      src=file\n",
        "      dst=\"flower\"+str(q)+\".jpg\"\n",
        "      os.rename(src,dst)\n",
        "      q+=1\n",
        "print(\"All files has been renamed successfully of flower.\")   \n",
        "\n",
        "os.chdir('/content/Bachelorthesis/Linnaeus5/test/other/')\n",
        "r=1\n",
        "for file in os.listdir():\n",
        "      src=file\n",
        "      dst=\"other\"+str(r)+\".jpg\"\n",
        "      os.rename(src,dst)\n",
        "      r+=1\n",
        "print(\"All files has been renamed successfully of other.\")   \n"
      ],
      "execution_count": 0,
      "outputs": [
        {
          "output_type": "stream",
          "text": [
            "All files has been renamed successfully of berry.\n",
            "All files has been renamed successfully of bird.\n",
            "All files has been renamed successfully of dog.\n",
            "All files has been renamed successfully of flower.\n",
            "All files has been renamed successfully of other.\n"
          ],
          "name": "stdout"
        }
      ]
    },
    {
      "cell_type": "markdown",
      "metadata": {
        "id": "2S5MLTM8njl0",
        "colab_type": "text"
      },
      "source": [
        "## Label images and create a CSV-file for test and training data"
      ]
    },
    {
      "cell_type": "code",
      "metadata": {
        "id": "7otPRNM91EXf",
        "colab_type": "code",
        "outputId": "d26a5654-978e-45b9-9934-e3ced847ce9e",
        "colab": {
          "base_uri": "https://localhost:8080/",
          "height": 33
        }
      },
      "source": [
        " cd '/content/Bachelorthesis/'"
      ],
      "execution_count": 0,
      "outputs": [
        {
          "output_type": "stream",
          "text": [
            "/content/Bachelorthesis\n"
          ],
          "name": "stdout"
        }
      ]
    },
    {
      "cell_type": "markdown",
      "metadata": {
        "id": "7bRrVxgWwcbK",
        "colab_type": "text"
      },
      "source": [
        "Create a train and a test folder\n"
      ]
    },
    {
      "cell_type": "code",
      "metadata": {
        "id": "tzuxPoN1x5CJ",
        "colab_type": "code",
        "colab": {}
      },
      "source": [
        "os.mkdir('/content/Bachelorthesis/traindata')\n",
        "os.mkdir('/content/Bachelorthesis/testdata')"
      ],
      "execution_count": 0,
      "outputs": []
    },
    {
      "cell_type": "markdown",
      "metadata": {
        "id": "E0M-_p21v6B9",
        "colab_type": "text"
      },
      "source": [
        "Put all images in the subfolders in one folder\n"
      ]
    },
    {
      "cell_type": "code",
      "metadata": {
        "id": "pl3tZvFZxcCi",
        "colab_type": "code",
        "colab": {}
      },
      "source": [
        "import os\n",
        "import shutil\n",
        "\n",
        "for root, dirs, files in os.walk('/content/Bachelorthesis/Linnaeus5/train'):  \n",
        "   for file in files:\n",
        "      path_file = os.path.join(root,file)\n",
        "      shutil.copy2(path_file,'/content/Bachelorthesis/traindata') \n",
        "\n",
        "for root, dirs, files in os.walk('/content/Bachelorthesis/Linnaeus5/test'):  \n",
        "   for file in files:\n",
        "      path_file = os.path.join(root,file)\n",
        "      shutil.copy2(path_file,'/content/Bachelorthesis/testdata')       "
      ],
      "execution_count": 0,
      "outputs": []
    },
    {
      "cell_type": "markdown",
      "metadata": {
        "id": "Rpdhj0LvXQcj",
        "colab_type": "text"
      },
      "source": [
        "CSV-file for testdata"
      ]
    },
    {
      "cell_type": "code",
      "metadata": {
        "id": "NZqlcKcGdqAo",
        "colab_type": "code",
        "colab": {}
      },
      "source": [
        "import os\n",
        "import csv\n",
        "\n",
        "path = '/content/Bachelorthesis/testdata/'\n",
        "\n",
        "with open('test.csv', 'w', newline='') as csvfile: \n",
        "    files = []\n",
        "    for r,d,f in os.walk(path):\n",
        "        for _file in f:\n",
        "            if '.jpg' in _file:\n",
        "                files.append(_file)\n",
        "    \n",
        "    writer = csv.writer(csvfile, delimiter=',') #Create CSV-file with labels\n",
        "    for f in files: \n",
        "        t = f[0:12] \n",
        "        \n",
        "        if \"berry\" in t:\n",
        "            t = 0 \n",
        "        elif \"bird\" in t:\n",
        "            t = 1\n",
        "        elif \"dog\" in t:\n",
        "            t = 2\n",
        "        elif \"flower\" in t:\n",
        "            t = 3\n",
        "        elif \"other\" in t:\n",
        "            t = 4   \n",
        "        writer.writerow([f, t]) #write into output.csv"
      ],
      "execution_count": 0,
      "outputs": []
    },
    {
      "cell_type": "markdown",
      "metadata": {
        "id": "SXuirUidXaI2",
        "colab_type": "text"
      },
      "source": [
        "CSV-file for traindata"
      ]
    },
    {
      "cell_type": "code",
      "metadata": {
        "id": "MKgzvv2ymmfV",
        "colab_type": "code",
        "colab": {}
      },
      "source": [
        "import os\n",
        "import csv\n",
        "\n",
        "path = '/content/Bachelorthesis/traindata/'\n",
        "\n",
        "with open('train.csv', 'w', newline='') as csvfile:\n",
        "    files = []\n",
        "    for r,d,f in os.walk(path):\n",
        "        for _file in f:\n",
        "            if '.jpg' in _file:\n",
        "                files.append(_file)\n",
        "    \n",
        "    writer = csv.writer(csvfile, delimiter=',')\n",
        "    for f in files: \n",
        "        t = f[0:10] \n",
        "        \n",
        "        if \"berry\" in t:\n",
        "            t = 0 \n",
        "        elif \"bird\" in t:\n",
        "            t = 1\n",
        "        elif \"dog\" in t:\n",
        "            t = 2\n",
        "        elif \"flower\" in t:\n",
        "            t = 3\n",
        "        elif \"other\" in t:\n",
        "            t = 4   \n",
        "        writer.writerow([f, t]) #write the row to the file output.csv"
      ],
      "execution_count": 0,
      "outputs": []
    },
    {
      "cell_type": "markdown",
      "metadata": {
        "id": "zeDgT_gMuX2j",
        "colab_type": "text"
      },
      "source": [
        "## Autokeras"
      ]
    },
    {
      "cell_type": "code",
      "metadata": {
        "id": "3XzMVFJeW-au",
        "colab_type": "code",
        "outputId": "c25ed89d-0c37-41a4-beb9-f8c3cef22423",
        "colab": {
          "base_uri": "https://localhost:8080/",
          "height": 1000
        }
      },
      "source": [
        "!pip3 install autokeras\n",
        "from autokeras.image.image_supervised import ImageClassifier, load_image_dataset\n"
      ],
      "execution_count": 0,
      "outputs": [
        {
          "output_type": "stream",
          "text": [
            "Collecting autokeras\n",
            "\u001b[?25l  Downloading https://files.pythonhosted.org/packages/c2/32/de74bf6afd09925980340355a05aa6a19e7378ed91dac09e76a487bd136d/autokeras-0.4.0.tar.gz (67kB)\n",
            "\u001b[K     |████████████████████████████████| 71kB 3.8MB/s \n",
            "\u001b[?25hCollecting scipy==1.2.0\n",
            "\u001b[?25l  Downloading https://files.pythonhosted.org/packages/67/e6/6d4edaceee6a110ecf6f318482f5229792f143e468b34a631f5a0899f56d/scipy-1.2.0-cp36-cp36m-manylinux1_x86_64.whl (26.6MB)\n",
            "\u001b[K     |████████████████████████████████| 26.6MB 113kB/s \n",
            "\u001b[?25hCollecting tensorflow==1.13.1\n",
            "\u001b[?25l  Downloading https://files.pythonhosted.org/packages/77/63/a9fa76de8dffe7455304c4ed635be4aa9c0bacef6e0633d87d5f54530c5c/tensorflow-1.13.1-cp36-cp36m-manylinux1_x86_64.whl (92.5MB)\n",
            "\u001b[K     |████████████████████████████████| 92.5MB 108kB/s \n",
            "\u001b[?25hCollecting torch==1.0.1.post2\n",
            "\u001b[?25l  Downloading https://files.pythonhosted.org/packages/31/ca/dd2c64f8ab5e7985c4af6e62da933849293906edcdb70dac679c93477733/torch-1.0.1.post2-cp36-cp36m-manylinux1_x86_64.whl (582.5MB)\n",
            "\u001b[K     |████████████████████████████████| 582.5MB 26kB/s \n",
            "\u001b[?25hCollecting torchvision==0.2.1\n",
            "\u001b[?25l  Downloading https://files.pythonhosted.org/packages/ca/0d/f00b2885711e08bd71242ebe7b96561e6f6d01fdb4b9dcf4d37e2e13c5e1/torchvision-0.2.1-py2.py3-none-any.whl (54kB)\n",
            "\u001b[K     |████████████████████████████████| 61kB 7.6MB/s \n",
            "\u001b[?25hCollecting numpy==1.16.1\n",
            "\u001b[?25l  Downloading https://files.pythonhosted.org/packages/f5/bf/4981bcbee43934f0adb8f764a1e70ab0ee5a448f6505bd04a87a2fda2a8b/numpy-1.16.1-cp36-cp36m-manylinux1_x86_64.whl (17.3MB)\n",
            "\u001b[K     |████████████████████████████████| 17.3MB 195kB/s \n",
            "\u001b[?25hCollecting scikit-learn==0.20.2\n",
            "\u001b[?25l  Downloading https://files.pythonhosted.org/packages/0d/3a/b92670f5c368c20329ecc4c255993fae7934564d485c3ed7ea7b8da7f741/scikit_learn-0.20.2-cp36-cp36m-manylinux1_x86_64.whl (5.4MB)\n",
            "\u001b[K     |████████████████████████████████| 5.4MB 23.5MB/s \n",
            "\u001b[?25hCollecting scikit-image==0.14.2\n",
            "\u001b[?25l  Downloading https://files.pythonhosted.org/packages/24/06/d560630eb9e36d90d69fe57d9ff762d8f501664ce478b8a0ae132b3c3008/scikit_image-0.14.2-cp36-cp36m-manylinux1_x86_64.whl (25.3MB)\n",
            "\u001b[K     |████████████████████████████████| 25.3MB 1.5MB/s \n",
            "\u001b[?25hCollecting tqdm==4.31.0\n",
            "\u001b[?25l  Downloading https://files.pythonhosted.org/packages/5b/6b/e0095b66a77cb80cf00962258a6c45dd543aebc719ddb9537b97721ccc75/tqdm-4.31.0-py2.py3-none-any.whl (48kB)\n",
            "\u001b[K     |████████████████████████████████| 51kB 6.6MB/s \n",
            "\u001b[?25hCollecting imageio==2.5.0\n",
            "\u001b[?25l  Downloading https://files.pythonhosted.org/packages/af/0a/943c965d372dae0b1f1482677d29030ab834351a61a9a632fd62f27f1523/imageio-2.5.0-py3-none-any.whl (3.3MB)\n",
            "\u001b[K     |████████████████████████████████| 3.3MB 33.1MB/s \n",
            "\u001b[?25hRequirement already satisfied: requests==2.21.0 in /usr/local/lib/python3.6/dist-packages (from autokeras) (2.21.0)\n",
            "Requirement already satisfied: protobuf>=3.6.1 in /usr/local/lib/python3.6/dist-packages (from tensorflow==1.13.1->autokeras) (3.10.0)\n",
            "Collecting tensorflow-estimator<1.14.0rc0,>=1.13.0\n",
            "\u001b[?25l  Downloading https://files.pythonhosted.org/packages/bb/48/13f49fc3fa0fdf916aa1419013bb8f2ad09674c275b4046d5ee669a46873/tensorflow_estimator-1.13.0-py2.py3-none-any.whl (367kB)\n",
            "\u001b[K     |████████████████████████████████| 368kB 44.1MB/s \n",
            "\u001b[?25hRequirement already satisfied: grpcio>=1.8.6 in /usr/local/lib/python3.6/dist-packages (from tensorflow==1.13.1->autokeras) (1.15.0)\n",
            "Requirement already satisfied: gast>=0.2.0 in /usr/local/lib/python3.6/dist-packages (from tensorflow==1.13.1->autokeras) (0.2.2)\n",
            "Requirement already satisfied: keras-preprocessing>=1.0.5 in /usr/local/lib/python3.6/dist-packages (from tensorflow==1.13.1->autokeras) (1.1.0)\n",
            "Collecting tensorboard<1.14.0,>=1.13.0\n",
            "\u001b[?25l  Downloading https://files.pythonhosted.org/packages/0f/39/bdd75b08a6fba41f098b6cb091b9e8c7a80e1b4d679a581a0ccd17b10373/tensorboard-1.13.1-py3-none-any.whl (3.2MB)\n",
            "\u001b[K     |████████████████████████████████| 3.2MB 36.0MB/s \n",
            "\u001b[?25hRequirement already satisfied: six>=1.10.0 in /usr/local/lib/python3.6/dist-packages (from tensorflow==1.13.1->autokeras) (1.12.0)\n",
            "Requirement already satisfied: wheel>=0.26 in /usr/local/lib/python3.6/dist-packages (from tensorflow==1.13.1->autokeras) (0.33.6)\n",
            "Requirement already satisfied: absl-py>=0.1.6 in /usr/local/lib/python3.6/dist-packages (from tensorflow==1.13.1->autokeras) (0.8.1)\n",
            "Requirement already satisfied: keras-applications>=1.0.6 in /usr/local/lib/python3.6/dist-packages (from tensorflow==1.13.1->autokeras) (1.0.8)\n",
            "Requirement already satisfied: astor>=0.6.0 in /usr/local/lib/python3.6/dist-packages (from tensorflow==1.13.1->autokeras) (0.8.1)\n",
            "Requirement already satisfied: termcolor>=1.1.0 in /usr/local/lib/python3.6/dist-packages (from tensorflow==1.13.1->autokeras) (1.1.0)\n",
            "Requirement already satisfied: pillow>=4.1.1 in /usr/local/lib/python3.6/dist-packages (from torchvision==0.2.1->autokeras) (4.3.0)\n",
            "Requirement already satisfied: dask[array]>=1.0.0 in /usr/local/lib/python3.6/dist-packages (from scikit-image==0.14.2->autokeras) (1.1.5)\n",
            "Requirement already satisfied: cloudpickle>=0.2.1 in /usr/local/lib/python3.6/dist-packages (from scikit-image==0.14.2->autokeras) (1.2.2)\n",
            "Requirement already satisfied: networkx>=1.8 in /usr/local/lib/python3.6/dist-packages (from scikit-image==0.14.2->autokeras) (2.4)\n",
            "Requirement already satisfied: matplotlib>=2.0.0 in /usr/local/lib/python3.6/dist-packages (from scikit-image==0.14.2->autokeras) (3.1.2)\n",
            "Requirement already satisfied: PyWavelets>=0.4.0 in /usr/local/lib/python3.6/dist-packages (from scikit-image==0.14.2->autokeras) (1.1.1)\n",
            "Requirement already satisfied: certifi>=2017.4.17 in /usr/local/lib/python3.6/dist-packages (from requests==2.21.0->autokeras) (2019.11.28)\n",
            "Requirement already satisfied: urllib3<1.25,>=1.21.1 in /usr/local/lib/python3.6/dist-packages (from requests==2.21.0->autokeras) (1.24.3)\n",
            "Requirement already satisfied: chardet<3.1.0,>=3.0.2 in /usr/local/lib/python3.6/dist-packages (from requests==2.21.0->autokeras) (3.0.4)\n",
            "Requirement already satisfied: idna<2.9,>=2.5 in /usr/local/lib/python3.6/dist-packages (from requests==2.21.0->autokeras) (2.8)\n",
            "Requirement already satisfied: setuptools in /usr/local/lib/python3.6/dist-packages (from protobuf>=3.6.1->tensorflow==1.13.1->autokeras) (42.0.2)\n",
            "Collecting mock>=2.0.0\n",
            "  Downloading https://files.pythonhosted.org/packages/05/d2/f94e68be6b17f46d2c353564da56e6fb89ef09faeeff3313a046cb810ca9/mock-3.0.5-py2.py3-none-any.whl\n",
            "Requirement already satisfied: werkzeug>=0.11.15 in /usr/local/lib/python3.6/dist-packages (from tensorboard<1.14.0,>=1.13.0->tensorflow==1.13.1->autokeras) (0.16.0)\n",
            "Requirement already satisfied: markdown>=2.6.8 in /usr/local/lib/python3.6/dist-packages (from tensorboard<1.14.0,>=1.13.0->tensorflow==1.13.1->autokeras) (3.1.1)\n",
            "Requirement already satisfied: h5py in /usr/local/lib/python3.6/dist-packages (from keras-applications>=1.0.6->tensorflow==1.13.1->autokeras) (2.8.0)\n",
            "Requirement already satisfied: olefile in /usr/local/lib/python3.6/dist-packages (from pillow>=4.1.1->torchvision==0.2.1->autokeras) (0.46)\n",
            "Requirement already satisfied: toolz>=0.7.3; extra == \"array\" in /usr/local/lib/python3.6/dist-packages (from dask[array]>=1.0.0->scikit-image==0.14.2->autokeras) (0.10.0)\n",
            "Requirement already satisfied: decorator>=4.3.0 in /usr/local/lib/python3.6/dist-packages (from networkx>=1.8->scikit-image==0.14.2->autokeras) (4.4.1)\n",
            "Requirement already satisfied: pyparsing!=2.0.4,!=2.1.2,!=2.1.6,>=2.0.1 in /usr/local/lib/python3.6/dist-packages (from matplotlib>=2.0.0->scikit-image==0.14.2->autokeras) (2.4.5)\n",
            "Requirement already satisfied: kiwisolver>=1.0.1 in /usr/local/lib/python3.6/dist-packages (from matplotlib>=2.0.0->scikit-image==0.14.2->autokeras) (1.1.0)\n",
            "Requirement already satisfied: python-dateutil>=2.1 in /usr/local/lib/python3.6/dist-packages (from matplotlib>=2.0.0->scikit-image==0.14.2->autokeras) (2.6.1)\n",
            "Requirement already satisfied: cycler>=0.10 in /usr/local/lib/python3.6/dist-packages (from matplotlib>=2.0.0->scikit-image==0.14.2->autokeras) (0.10.0)\n",
            "Building wheels for collected packages: autokeras\n",
            "  Building wheel for autokeras (setup.py) ... \u001b[?25l\u001b[?25hdone\n",
            "  Created wheel for autokeras: filename=autokeras-0.4.0-cp36-none-any.whl size=79812 sha256=8bec7a9892f141c61bac98024a6a8360710ce251debfbd5b955a4b8b3196f3a8\n",
            "  Stored in directory: /root/.cache/pip/wheels/be/a7/37/de16bfa1fbe42e7f5821c13719179ec511633fc772871e9a32\n",
            "Successfully built autokeras\n",
            "\u001b[31mERROR: datascience 0.10.6 has requirement folium==0.2.1, but you'll have folium 0.8.3 which is incompatible.\u001b[0m\n",
            "\u001b[31mERROR: albumentations 0.1.12 has requirement imgaug<0.2.7,>=0.2.5, but you'll have imgaug 0.2.9 which is incompatible.\u001b[0m\n",
            "Installing collected packages: numpy, scipy, mock, tensorflow-estimator, tensorboard, tensorflow, torch, torchvision, scikit-learn, scikit-image, tqdm, imageio, autokeras\n",
            "  Found existing installation: numpy 1.17.4\n",
            "    Uninstalling numpy-1.17.4:\n",
            "      Successfully uninstalled numpy-1.17.4\n",
            "  Found existing installation: scipy 1.3.3\n",
            "    Uninstalling scipy-1.3.3:\n",
            "      Successfully uninstalled scipy-1.3.3\n",
            "  Found existing installation: tensorflow-estimator 1.15.1\n",
            "    Uninstalling tensorflow-estimator-1.15.1:\n",
            "      Successfully uninstalled tensorflow-estimator-1.15.1\n",
            "  Found existing installation: tensorboard 1.15.0\n",
            "    Uninstalling tensorboard-1.15.0:\n",
            "      Successfully uninstalled tensorboard-1.15.0\n",
            "  Found existing installation: tensorflow 1.15.0\n",
            "    Uninstalling tensorflow-1.15.0:\n",
            "      Successfully uninstalled tensorflow-1.15.0\n",
            "  Found existing installation: torch 1.3.1\n",
            "    Uninstalling torch-1.3.1:\n",
            "      Successfully uninstalled torch-1.3.1\n",
            "  Found existing installation: torchvision 0.4.2\n",
            "    Uninstalling torchvision-0.4.2:\n",
            "      Successfully uninstalled torchvision-0.4.2\n",
            "  Found existing installation: scikit-learn 0.21.3\n",
            "    Uninstalling scikit-learn-0.21.3:\n",
            "      Successfully uninstalled scikit-learn-0.21.3\n",
            "  Found existing installation: scikit-image 0.15.0\n",
            "    Uninstalling scikit-image-0.15.0:\n",
            "      Successfully uninstalled scikit-image-0.15.0\n",
            "  Found existing installation: tqdm 4.28.1\n",
            "    Uninstalling tqdm-4.28.1:\n",
            "      Successfully uninstalled tqdm-4.28.1\n",
            "  Found existing installation: imageio 2.4.1\n",
            "    Uninstalling imageio-2.4.1:\n",
            "      Successfully uninstalled imageio-2.4.1\n",
            "Successfully installed autokeras-0.4.0 imageio-2.5.0 mock-3.0.5 numpy-1.16.1 scikit-image-0.14.2 scikit-learn-0.20.2 scipy-1.2.0 tensorboard-1.13.1 tensorflow-1.13.1 tensorflow-estimator-1.13.0 torch-1.0.1.post2 torchvision-0.2.1 tqdm-4.31.0\n"
          ],
          "name": "stdout"
        },
        {
          "output_type": "display_data",
          "data": {
            "application/vnd.colab-display-data+json": {
              "pip_warning": {
                "packages": [
                  "numpy",
                  "tqdm"
                ]
              }
            }
          },
          "metadata": {
            "tags": []
          }
        },
        {
          "output_type": "stream",
          "text": [
            "/usr/local/lib/python3.6/dist-packages/tensorflow/python/framework/dtypes.py:526: FutureWarning: Passing (type, 1) or '1type' as a synonym of type is deprecated; in a future version of numpy, it will be understood as (type, (1,)) / '(1,)type'.\n",
            "  _np_qint8 = np.dtype([(\"qint8\", np.int8, 1)])\n",
            "/usr/local/lib/python3.6/dist-packages/tensorflow/python/framework/dtypes.py:527: FutureWarning: Passing (type, 1) or '1type' as a synonym of type is deprecated; in a future version of numpy, it will be understood as (type, (1,)) / '(1,)type'.\n",
            "  _np_quint8 = np.dtype([(\"quint8\", np.uint8, 1)])\n",
            "/usr/local/lib/python3.6/dist-packages/tensorflow/python/framework/dtypes.py:528: FutureWarning: Passing (type, 1) or '1type' as a synonym of type is deprecated; in a future version of numpy, it will be understood as (type, (1,)) / '(1,)type'.\n",
            "  _np_qint16 = np.dtype([(\"qint16\", np.int16, 1)])\n",
            "/usr/local/lib/python3.6/dist-packages/tensorflow/python/framework/dtypes.py:529: FutureWarning: Passing (type, 1) or '1type' as a synonym of type is deprecated; in a future version of numpy, it will be understood as (type, (1,)) / '(1,)type'.\n",
            "  _np_quint16 = np.dtype([(\"quint16\", np.uint16, 1)])\n",
            "/usr/local/lib/python3.6/dist-packages/tensorflow/python/framework/dtypes.py:530: FutureWarning: Passing (type, 1) or '1type' as a synonym of type is deprecated; in a future version of numpy, it will be understood as (type, (1,)) / '(1,)type'.\n",
            "  _np_qint32 = np.dtype([(\"qint32\", np.int32, 1)])\n",
            "/usr/local/lib/python3.6/dist-packages/tensorflow/python/framework/dtypes.py:535: FutureWarning: Passing (type, 1) or '1type' as a synonym of type is deprecated; in a future version of numpy, it will be understood as (type, (1,)) / '(1,)type'.\n",
            "  np_resource = np.dtype([(\"resource\", np.ubyte, 1)])\n"
          ],
          "name": "stderr"
        },
        {
          "output_type": "display_data",
          "data": {
            "text/html": [
              "<p style=\"color: red;\">\n",
              "The default version of TensorFlow in Colab will soon switch to TensorFlow 2.x.<br>\n",
              "We recommend you <a href=\"https://www.tensorflow.org/guide/migrate\" target=\"_blank\">upgrade</a> now \n",
              "or ensure your notebook will continue to use TensorFlow 1.x via the <code>%tensorflow_version 1.x</code> magic:\n",
              "<a href=\"https://colab.research.google.com/notebooks/tensorflow_version.ipynb\" target=\"_blank\">more info</a>.</p>\n"
            ],
            "text/plain": [
              "<IPython.core.display.HTML object>"
            ]
          },
          "metadata": {
            "tags": []
          }
        },
        {
          "output_type": "stream",
          "text": [
            "Better speed can be achieved with apex installed from https://www.github.com/nvidia/apex.\n"
          ],
          "name": "stdout"
        }
      ]
    },
    {
      "cell_type": "code",
      "metadata": {
        "id": "fvqO_y9OuXUT",
        "colab_type": "code",
        "colab": {}
      },
      "source": [
        "train_path = '/content/Bachelorthesis/traindata'\n",
        "train_labels = '/content/Bachelorthesis/train.csv'\n",
        "\n",
        "\n",
        "test_path = '/content/Bachelorthesis/testdata'\n",
        "test_labels = '/content/Bachelorthesis/test.csv'\n"
      ],
      "execution_count": 0,
      "outputs": []
    },
    {
      "cell_type": "code",
      "metadata": {
        "id": "GPeuVAFuw2wv",
        "colab_type": "code",
        "outputId": "ac63e434-655f-4135-ccf7-6ab42a2e1ad5",
        "colab": {
          "base_uri": "https://localhost:8080/",
          "height": 84
        }
      },
      "source": [
        "x_train, y_train = load_image_dataset(csv_file_path=train_labels,\n",
        "                                    images_path=train_path)\n",
        "print(x_train.shape)\n",
        "print(y_train.shape)\n",
        "\n",
        "x_val, y_val = load_image_dataset(csv_file_path=test_labels,\n",
        "                                  images_path=test_path)\n",
        "\n",
        "print(x_val.shape)\n",
        "print(y_val.shape)"
      ],
      "execution_count": 0,
      "outputs": [
        {
          "output_type": "stream",
          "text": [
            "(5999, 64, 64, 3)\n",
            "(5999,)\n",
            "(1999, 64, 64, 3)\n",
            "(1999,)\n"
          ],
          "name": "stdout"
        }
      ]
    },
    {
      "cell_type": "code",
      "metadata": {
        "id": "jBBlRUDGySOY",
        "colab_type": "code",
        "colab": {}
      },
      "source": [
        "os.mkdir('/content/Bachelorthesis/graph')"
      ],
      "execution_count": 0,
      "outputs": []
    },
    {
      "cell_type": "code",
      "metadata": {
        "colab_type": "code",
        "id": "Sr-nVnwF5UwR",
        "outputId": "2b404926-0f84-42c3-e7ba-aa9873443820",
        "colab": {
          "base_uri": "https://localhost:8080/",
          "height": 1000
        }
      },
      "source": [
        "clf = ImageClassifier(verbose = True, path='/content/Bachelorthesis/graph' )\n",
        "clf.fit(x_train,y_train, time_limit = 10 * 60 * 60) # default time_limit is 24 hours\n",
        "\n",
        "#refit the best model ,train the best model found,on the entire x train y train dataset\n",
        "# can lead to better slightly results by fitting the entire dataset, because during fit process some of the train dataset might have \n",
        "#been reserved as validation set\n",
        "\n",
        "clf.final_fit(x_train,y_train,x_val,y_val,retrain = True)\n"
      ],
      "execution_count": 0,
      "outputs": [
        {
          "output_type": "stream",
          "text": [
            "Saving Directory: /content/Bachelorthesis/graph\n",
            "Preprocessing the images.\n",
            "Preprocessing finished.\n",
            "\n",
            "Initializing search.\n",
            "Initialization finished.\n",
            "\n",
            "\n",
            "+----------------------------------------------+\n",
            "|               Training model 0               |\n",
            "+----------------------------------------------+\n",
            "                                                                                                    \n",
            "No loss decrease after 5 epochs.\n",
            "\n",
            "\n",
            "Saving model.\n",
            "+--------------------------------------------------------------------------+\n",
            "|        Model ID        |          Loss          |      Metric Value      |\n",
            "+--------------------------------------------------------------------------+\n",
            "|           0            |   3.8182628393173217   |   0.6200400801603206   |\n",
            "+--------------------------------------------------------------------------+\n",
            "\n",
            "\n",
            "+----------------------------------------------+\n",
            "|               Training model 1               |\n",
            "+----------------------------------------------+\n",
            "                                                                              \n",
            "No loss decrease after 5 epochs.\n",
            "\n",
            "\n",
            "Saving model.\n",
            "+--------------------------------------------------------------------------+\n",
            "|        Model ID        |          Loss          |      Metric Value      |\n",
            "+--------------------------------------------------------------------------+\n",
            "|           1            |   3.460143280029297    |   0.7098196392785571   |\n",
            "+--------------------------------------------------------------------------+\n",
            "\n",
            "\n",
            "+----------------------------------------------+\n",
            "|               Training model 2               |\n",
            "+----------------------------------------------+\n",
            "                                                                              \n",
            "No loss decrease after 5 epochs.\n",
            "\n",
            "\n",
            "Saving model.\n",
            "+--------------------------------------------------------------------------+\n",
            "|        Model ID        |          Loss          |      Metric Value      |\n",
            "+--------------------------------------------------------------------------+\n",
            "|           2            |   2.989445924758911    |   0.7282565130260521   |\n",
            "+--------------------------------------------------------------------------+\n",
            "\n",
            "\n",
            "+----------------------------------------------+\n",
            "|               Training model 3               |\n",
            "+----------------------------------------------+\n",
            "                                                                              \n",
            "No loss decrease after 5 epochs.\n",
            "\n"
          ],
          "name": "stdout"
        }
      ]
    },
    {
      "cell_type": "code",
      "metadata": {
        "id": "ohm2HHun26bI",
        "colab_type": "code",
        "colab": {}
      },
      "source": [
        "clf = ImageClassifier(verbose = True, path='/content/Bachelorthesis/graph', searcher_args = {'trainer_args':{'max_iter_num': 25}})\n",
        "clf.fit(x_train,y_train, time_limit = 10 * 60 * 60) # default time_limit is 24 hours\n"
      ],
      "execution_count": 0,
      "outputs": []
    },
    {
      "cell_type": "markdown",
      "metadata": {
        "id": "USB1A_Dqm_TX",
        "colab_type": "text"
      },
      "source": [
        ""
      ]
    },
    {
      "cell_type": "code",
      "metadata": {
        "id": "i8TF1aRR4Kqv",
        "colab_type": "code",
        "colab": {}
      },
      "source": [
        ""
      ],
      "execution_count": 0,
      "outputs": []
    },
    {
      "cell_type": "code",
      "metadata": {
        "id": "rpwT6M-G1SfQ",
        "colab_type": "code",
        "colab": {}
      },
      "source": [
        "\n",
        "\n",
        "# accuracy of the test set\n",
        "print(clf.evaluate(x_val,y_val))\n"
      ],
      "execution_count": 0,
      "outputs": []
    },
    {
      "cell_type": "code",
      "metadata": {
        "id": "R7earqOKzhNK",
        "colab_type": "code",
        "colab": {}
      },
      "source": [
        "from autokeras.utils import pickle_from_file\n"
      ],
      "execution_count": 0,
      "outputs": []
    },
    {
      "cell_type": "code",
      "metadata": {
        "id": "T35-OJg-1Waa",
        "colab_type": "code",
        "colab": {}
      },
      "source": [
        "clf.export_autokeras_model(\"autokeras.model\")\n",
        "model = pickle_from_file(\"autokeras.model\")\n",
        "results = model.evaluate(x_val, y_val)\n",
        "print(results)\n",
        "\n"
      ],
      "execution_count": 0,
      "outputs": []
    },
    {
      "cell_type": "code",
      "metadata": {
        "id": "m3wKB161x-hT",
        "colab_type": "code",
        "colab": {}
      },
      "source": [
        "score = model.evaluate(x_val, y_val)\n",
        "print(\"accuracy on test set is \",100*score)"
      ],
      "execution_count": 0,
      "outputs": []
    },
    {
      "cell_type": "code",
      "metadata": {
        "id": "MXRU7OhNKok7",
        "colab_type": "code",
        "colab": {}
      },
      "source": [
        "pip install graphviz"
      ],
      "execution_count": 0,
      "outputs": []
    },
    {
      "cell_type": "code",
      "metadata": {
        "id": "SKVIJoIrNBlo",
        "colab_type": "code",
        "colab": {}
      },
      "source": [
        "import os\n",
        "from graphviz import Digraph\n",
        "\n",
        "from autokeras.utils import pickle_from_file\n",
        "\n",
        "\n",
        "def to_pdf(graph, path):\n",
        "    \"\"\" a function to write our model to a pdf file. This is just a copy of the proposed method online.\"\"\"\n",
        "    dot = Digraph(comment='The Round Table')\n",
        "\n",
        "    for index, node in enumerate(graph.node_list):\n",
        "        dot.node(str(index), str(node.shape))\n",
        "\n",
        "    for u in range(graph.n_nodes):\n",
        "        for v, layer_id in graph.adj_list[u]:\n",
        "            dot.edge(str(u), str(v), str(graph.layer_list[layer_id]))\n",
        "\n",
        "    dot.render(path)\n",
        "\n",
        "\n",
        "def visualize(path):\n",
        "    \"\"\" visualize the model that is defined in the automodels folder lying above:\n",
        "    that is the folder as generated by Auto-Keras in which it drops its (temporary) models\"\"\"\n",
        "    cnn_module = pickle_from_file(os.path.join(path, 'module'))\n",
        "    cnn_module.searcher.path = path\n",
        "    for item in cnn_module.searcher.history:\n",
        "        model_id = item['model_id']\n",
        "        graph = cnn_module.searcher.load_model_by_id(model_id)\n",
        "        to_pdf(graph, os.path.join(path, str(model_id)))\n",
        "\n",
        "\n",
        "if __name__ == '__main__':\n",
        "    # here, the desired folder lying a level above is used\n",
        "    # that is the folder as generated by Auto-Keras in which it drops its (temporary) models\n",
        "    visualize('/content/Bachelorthesis/graph/')    # FIX THIS"
      ],
      "execution_count": 0,
      "outputs": []
    },
    {
      "cell_type": "code",
      "metadata": {
        "id": "FW8A3isyOAVD",
        "colab_type": "code",
        "colab": {}
      },
      "source": [
        "import os\n",
        "from graphviz import Digraph\n",
        "# pip install graphviz\n",
        "from autokeras.utils import pickle_from_file\n",
        "\n",
        "\n",
        "def to_pdf(graph, path):\n",
        "    dot = Digraph(comment='Houses models')\n",
        "\n",
        "    for index, node in enumerate(graph.node_list):\n",
        "        dot.node(str(index), str(node.shape))\n",
        "\n",
        "    for u in range(graph.n_nodes):\n",
        "        for v, layer_id in graph.adj_list[u]:\n",
        "            dot.edge(str(u), str(v), str(graph.layer_list[layer_id]))\n",
        "\n",
        "    dot.render(path)\n",
        "\n",
        "\n",
        "def visualize(path):\n",
        "    module = pickle_from_file(os.path.join(path, 'module'))\n",
        "    module.searcher.path = path\n",
        "    for item in module.searcher.history:\n",
        "        model_id = item['model_id']\n",
        "        graph = module.searcher.load_model_by_id(model_id)\n",
        "        to_pdf(graph, os.path.join(path, str(model_id)))\n",
        " \n",
        "\n",
        "visualize('/content/Bachelorthesis/graph')"
      ],
      "execution_count": 0,
      "outputs": []
    },
    {
      "cell_type": "code",
      "metadata": {
        "id": "TogoQpOkaQbb",
        "colab_type": "code",
        "colab": {}
      },
      "source": [
        "if __name__ == '__main__':\n",
        "    visualize('/content/Bachelorthesis/graph')"
      ],
      "execution_count": 0,
      "outputs": []
    },
    {
      "cell_type": "code",
      "metadata": {
        "id": "g2Rh9DyR8cxv",
        "colab_type": "code",
        "colab": {}
      },
      "source": [
        "from sklearn.metrics import confusion_matrix\n",
        "y_prediction = clf.predict(x_val)\n",
        "print('The confusion matrix is: ')\n",
        "print(str(confusion_matrix(y_val, y_prediction)))"
      ],
      "execution_count": 0,
      "outputs": []
    },
    {
      "cell_type": "code",
      "metadata": {
        "id": "HcGPoPO4VaF5",
        "colab_type": "code",
        "colab": {}
      },
      "source": [
        "# import matplotlib.pyplot as plt\n",
        "\n",
        "# autokeras_predictions = clf.predict(x_val)\n",
        "# from sklearn.metrics import classification_report, confusion_matrix\n",
        "# cm = confusion_matrix(y_val, autokeras_predictions)\n",
        "\n",
        "# labels = ['berry', 'bird', 'dog', 'flower', 'others']\n",
        "\n",
        "# fig, ax = plt.subplots()\n",
        "# plt.title('Confusion matrix of Linnaeus 5 ')\n",
        "\n",
        "# ax.set_xticklabels([''] + labels)\n",
        "# ax.set_yticklabels([''] + labels)\n",
        "# plt.xlabel('Predicted')\n",
        "# plt.ylabel('True')\n",
        "# plt.show()\n",
        "from mlxtend.plotting import plot_confusion_matrix\n",
        "import matplotlib.pyplot as plt\n",
        "import numpy as np\n",
        "import sklearn as skplt\n",
        "import scikitplot as skplt\n",
        "skplt.metrics.plot_confusion_matrix(y_val, autokeras_predictions, figsize = (5, 5), title= 'My confusionmatrix' )\n",
        "\n",
        "\n",
        "# fig, ax =skplt.metrics.plot_confusion_matrix(conf_mat=multiclass,\n",
        "#                                 colorbar=True,\n",
        "#                                 show_absolute=False,\n",
        "#                                 show_normed=True)\n",
        "\n",
        "\n",
        "plt.show()"
      ],
      "execution_count": 0,
      "outputs": []
    },
    {
      "cell_type": "code",
      "metadata": {
        "id": "ti5deklQzTLl",
        "colab_type": "code",
        "colab": {}
      },
      "source": [
        "pip install matplotlib==3.1.0"
      ],
      "execution_count": 0,
      "outputs": []
    },
    {
      "cell_type": "code",
      "metadata": {
        "id": "Uh1k-dbwjU_j",
        "colab_type": "code",
        "colab": {}
      },
      "source": [
        "pip install scikit-plot"
      ],
      "execution_count": 0,
      "outputs": []
    },
    {
      "cell_type": "code",
      "metadata": {
        "id": "k1hscDgFRsUu",
        "colab_type": "code",
        "colab": {}
      },
      "source": [
        "from sklearn.metrics import confusion_matrix\n",
        "\n",
        "labels = ['business', 'health']\n",
        "cm = confusion_matrix(y_test, pred, labels)\n",
        "print(cm)\n",
        "fig = plt.figure()\n",
        "ax = fig.add_subplot(111)\n",
        "cax = ax.matshow(cm)\n",
        "plt.title('Confusion matrix of the classifier')\n",
        "fig.colorbar(cax)\n",
        "ax.set_xticklabels([''] + labels)\n",
        "ax.set_yticklabels([''] + labels)\n",
        "plt.xlabel('Predicted')\n",
        "plt.ylabel('True')\n",
        "plt.show()"
      ],
      "execution_count": 0,
      "outputs": []
    },
    {
      "cell_type": "code",
      "metadata": {
        "id": "YKsqkVZrzWGV",
        "colab_type": "code",
        "colab": {}
      },
      "source": [
        "from google.colab import drive\n",
        "drive.mount('/content/drive')"
      ],
      "execution_count": 0,
      "outputs": []
    },
    {
      "cell_type": "markdown",
      "metadata": {
        "id": "PQl1uaXxdJ1j",
        "colab_type": "text"
      },
      "source": [
        "# Autokeras"
      ]
    }
  ]
}